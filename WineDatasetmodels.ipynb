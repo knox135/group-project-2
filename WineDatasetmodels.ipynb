{
 "cells": [
  {
   "cell_type": "code",
   "execution_count": 3,
   "metadata": {},
   "outputs": [],
   "source": [
    "# import dependencies\n",
    "from sklearn.preprocessing import OneHotEncoder, OrdinalEncoder\n",
    "import numpy as np\n",
    "import pandas as pd\n",
    "from ucimlrepo import fetch_ucirepo \n",
    "from sklearn.model_selection import train_test_split\n",
    "import models as tests\n",
    "from sklearn.preprocessing import StandardScaler"
   ]
  },
  {
   "cell_type": "code",
   "execution_count": 9,
   "metadata": {},
   "outputs": [
    {
     "name": "stdout",
     "output_type": "stream",
     "text": [
      "<class 'pandas.core.frame.DataFrame'>\n",
      "RangeIndex: 1290 entries, 0 to 1289\n",
      "Data columns (total 14 columns):\n",
      " #   Column                     Non-Null Count  Dtype  \n",
      "---  ------                     --------------  -----  \n",
      " 0   Capacity                   1290 non-null   object \n",
      " 1   Grape                      1275 non-null   object \n",
      " 2   Secondary Grape Varieties  488 non-null    object \n",
      " 3   Closure                    1279 non-null   object \n",
      " 4   Country                    1284 non-null   object \n",
      " 5   Unit                       1281 non-null   float64\n",
      " 6   Characteristics            1253 non-null   object \n",
      " 7   Per bottle / case / each   1290 non-null   object \n",
      " 8   Type                       1285 non-null   object \n",
      " 9   ABV                        1281 non-null   object \n",
      " 10  Region                     1124 non-null   object \n",
      " 11  Style                      1212 non-null   object \n",
      " 12  Vintage                    1283 non-null   object \n",
      " 13  Appellation                644 non-null    object \n",
      "dtypes: float64(1), object(13)\n",
      "memory usage: 141.2+ KB\n"
     ]
    }
   ],
   "source": [
    "wine_df = pd.read_csv('./datasets/WineDataset.csv')\n",
    "wine_df = wine_df.drop(columns=['Title','Description','Price'])\n",
    "wine_df.info()"
   ]
  },
  {
   "cell_type": "code",
   "execution_count": null,
   "metadata": {},
   "outputs": [],
   "source": []
  }
 ],
 "metadata": {
  "kernelspec": {
   "display_name": "dev",
   "language": "python",
   "name": "python3"
  },
  "language_info": {
   "codemirror_mode": {
    "name": "ipython",
    "version": 3
   },
   "file_extension": ".py",
   "mimetype": "text/x-python",
   "name": "python",
   "nbconvert_exporter": "python",
   "pygments_lexer": "ipython3",
   "version": "3.10.13"
  }
 },
 "nbformat": 4,
 "nbformat_minor": 2
}
