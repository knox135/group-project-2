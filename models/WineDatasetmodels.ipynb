{
 "cells": [
  {
   "cell_type": "code",
   "execution_count": 1,
   "metadata": {},
   "outputs": [],
   "source": [
    "# import dependencies\n",
    "from sklearn.preprocessing import OneHotEncoder, OrdinalEncoder\n",
    "import numpy as np\n",
    "import pandas as pd\n",
    "from ucimlrepo import fetch_ucirepo \n",
    "from sklearn.model_selection import train_test_split\n",
    "import models as tests\n",
    "from sklearn.preprocessing import StandardScaler"
   ]
  },
  {
   "cell_type": "code",
   "execution_count": 2,
   "metadata": {},
   "outputs": [
    {
     "name": "stdout",
     "output_type": "stream",
     "text": [
      "<class 'pandas.core.frame.DataFrame'>\n",
      "RangeIndex: 1290 entries, 0 to 1289\n",
      "Data columns (total 14 columns):\n",
      " #   Column                     Non-Null Count  Dtype  \n",
      "---  ------                     --------------  -----  \n",
      " 0   Capacity                   1290 non-null   object \n",
      " 1   Grape                      1275 non-null   object \n",
      " 2   Secondary Grape Varieties  488 non-null    object \n",
      " 3   Closure                    1279 non-null   object \n",
      " 4   Country                    1284 non-null   object \n",
      " 5   Unit                       1281 non-null   float64\n",
      " 6   Characteristics            1253 non-null   object \n",
      " 7   Per bottle / case / each   1290 non-null   object \n",
      " 8   Type                       1285 non-null   object \n",
      " 9   ABV                        1281 non-null   object \n",
      " 10  Region                     1124 non-null   object \n",
      " 11  Style                      1212 non-null   object \n",
      " 12  Vintage                    1283 non-null   object \n",
      " 13  Appellation                644 non-null    object \n",
      "dtypes: float64(1), object(13)\n",
      "memory usage: 141.2+ KB\n"
     ]
    }
   ],
   "source": [
    "wine_df = pd.read_csv('../datasets/WineDataset.csv')\n",
    "wine_df = wine_df.drop(columns=['Title','Description','Price'])\n",
    "wine_df.info()"
   ]
  },
  {
   "cell_type": "code",
   "execution_count": 3,
   "metadata": {},
   "outputs": [
    {
     "data": {
      "text/html": [
       "<div>\n",
       "<style scoped>\n",
       "    .dataframe tbody tr th:only-of-type {\n",
       "        vertical-align: middle;\n",
       "    }\n",
       "\n",
       "    .dataframe tbody tr th {\n",
       "        vertical-align: top;\n",
       "    }\n",
       "\n",
       "    .dataframe thead th {\n",
       "        text-align: right;\n",
       "    }\n",
       "</style>\n",
       "<table border=\"1\" class=\"dataframe\">\n",
       "  <thead>\n",
       "    <tr style=\"text-align: right;\">\n",
       "      <th></th>\n",
       "      <th>Capacity</th>\n",
       "      <th>Grape</th>\n",
       "      <th>Secondary Grape Varieties</th>\n",
       "      <th>Closure</th>\n",
       "      <th>Country</th>\n",
       "      <th>Unit</th>\n",
       "      <th>Characteristics</th>\n",
       "      <th>Per bottle / case / each</th>\n",
       "      <th>Type</th>\n",
       "      <th>ABV</th>\n",
       "      <th>Region</th>\n",
       "      <th>Style</th>\n",
       "      <th>Vintage</th>\n",
       "      <th>Appellation</th>\n",
       "    </tr>\n",
       "  </thead>\n",
       "  <tbody>\n",
       "    <tr>\n",
       "      <th>0</th>\n",
       "      <td>75CL</td>\n",
       "      <td>Tempranillo</td>\n",
       "      <td>NaN</td>\n",
       "      <td>Natural Cork</td>\n",
       "      <td>Spain</td>\n",
       "      <td>10.5</td>\n",
       "      <td>Vanilla, Blackberry, Blackcurrant</td>\n",
       "      <td>per bottle</td>\n",
       "      <td>Red</td>\n",
       "      <td>ABV 14.00%</td>\n",
       "      <td>NaN</td>\n",
       "      <td>Rich &amp; Juicy</td>\n",
       "      <td>NV</td>\n",
       "      <td>NaN</td>\n",
       "    </tr>\n",
       "    <tr>\n",
       "      <th>1</th>\n",
       "      <td>75CL</td>\n",
       "      <td>Chardonnay</td>\n",
       "      <td>NaN</td>\n",
       "      <td>Natural Cork</td>\n",
       "      <td>USA</td>\n",
       "      <td>10.1</td>\n",
       "      <td>Vanilla, Almond, Coconut, Green Apple, Peach, ...</td>\n",
       "      <td>per bottle</td>\n",
       "      <td>White</td>\n",
       "      <td>ABV 13.50%</td>\n",
       "      <td>California</td>\n",
       "      <td>Rich &amp; Toasty</td>\n",
       "      <td>2021</td>\n",
       "      <td>Napa Valley</td>\n",
       "    </tr>\n",
       "    <tr>\n",
       "      <th>2</th>\n",
       "      <td>75CL</td>\n",
       "      <td>Sauvignon Blanc</td>\n",
       "      <td>NaN</td>\n",
       "      <td>Screwcap</td>\n",
       "      <td>New Zealand</td>\n",
       "      <td>9.8</td>\n",
       "      <td>Tropical Fruit, Gooseberry, Grapefruit, Grass,...</td>\n",
       "      <td>per bottle</td>\n",
       "      <td>White</td>\n",
       "      <td>ABV 13.00%</td>\n",
       "      <td>Marlborough</td>\n",
       "      <td>Crisp &amp; Zesty</td>\n",
       "      <td>2022</td>\n",
       "      <td>NaN</td>\n",
       "    </tr>\n",
       "    <tr>\n",
       "      <th>3</th>\n",
       "      <td>75CL</td>\n",
       "      <td>Chardonnay</td>\n",
       "      <td>NaN</td>\n",
       "      <td>Natural Cork</td>\n",
       "      <td>France</td>\n",
       "      <td>10.1</td>\n",
       "      <td>Peach, Apricot, Floral, Lemon</td>\n",
       "      <td>per bottle</td>\n",
       "      <td>White</td>\n",
       "      <td>ABV 13.50%</td>\n",
       "      <td>Burgundy</td>\n",
       "      <td>Ripe &amp; Rounded</td>\n",
       "      <td>2022</td>\n",
       "      <td>Macon</td>\n",
       "    </tr>\n",
       "    <tr>\n",
       "      <th>4</th>\n",
       "      <td>75CL</td>\n",
       "      <td>Pinot Noir</td>\n",
       "      <td>NaN</td>\n",
       "      <td>Natural Cork</td>\n",
       "      <td>USA</td>\n",
       "      <td>10.1</td>\n",
       "      <td>Smoke, Black Cherry, Cedar, Raspberry, Red Fruit</td>\n",
       "      <td>per bottle</td>\n",
       "      <td>Red</td>\n",
       "      <td>ABV 13.50%</td>\n",
       "      <td>California</td>\n",
       "      <td>Smooth &amp; Mellow</td>\n",
       "      <td>2021</td>\n",
       "      <td>Napa Valley</td>\n",
       "    </tr>\n",
       "    <tr>\n",
       "      <th>...</th>\n",
       "      <td>...</td>\n",
       "      <td>...</td>\n",
       "      <td>...</td>\n",
       "      <td>...</td>\n",
       "      <td>...</td>\n",
       "      <td>...</td>\n",
       "      <td>...</td>\n",
       "      <td>...</td>\n",
       "      <td>...</td>\n",
       "      <td>...</td>\n",
       "      <td>...</td>\n",
       "      <td>...</td>\n",
       "      <td>...</td>\n",
       "      <td>...</td>\n",
       "    </tr>\n",
       "    <tr>\n",
       "      <th>1285</th>\n",
       "      <td>75CL</td>\n",
       "      <td>Chenin Blanc</td>\n",
       "      <td>NaN</td>\n",
       "      <td>Natural Cork</td>\n",
       "      <td>France</td>\n",
       "      <td>9.4</td>\n",
       "      <td>Quince, Green Apple, Lemon, Pear</td>\n",
       "      <td>per bottle</td>\n",
       "      <td>White</td>\n",
       "      <td>ABV 12.50%</td>\n",
       "      <td>Loire</td>\n",
       "      <td>Aromatic &amp; Floral</td>\n",
       "      <td>2021</td>\n",
       "      <td>Vouvray</td>\n",
       "    </tr>\n",
       "    <tr>\n",
       "      <th>1286</th>\n",
       "      <td>75CL</td>\n",
       "      <td>Pinot Noir</td>\n",
       "      <td>NaN</td>\n",
       "      <td>Screwcap</td>\n",
       "      <td>New Zealand</td>\n",
       "      <td>9.8</td>\n",
       "      <td>Floral, Raspberry, Red Cherry, Strawberry</td>\n",
       "      <td>per bottle</td>\n",
       "      <td>Rosé</td>\n",
       "      <td>ABV 13.00%</td>\n",
       "      <td>Nelson</td>\n",
       "      <td>Delicate &amp; Dry</td>\n",
       "      <td>2021</td>\n",
       "      <td>NaN</td>\n",
       "    </tr>\n",
       "    <tr>\n",
       "      <th>1287</th>\n",
       "      <td>75CL</td>\n",
       "      <td>Cabernet Sauvignon</td>\n",
       "      <td>NaN</td>\n",
       "      <td>Screwcap</td>\n",
       "      <td>Australia</td>\n",
       "      <td>10.1</td>\n",
       "      <td>Vanilla, Blackberry, Blackcurrant, Cedar, Euca...</td>\n",
       "      <td>per bottle</td>\n",
       "      <td>Red</td>\n",
       "      <td>ABV 13.50%</td>\n",
       "      <td>South Australia</td>\n",
       "      <td>Savoury &amp; Full Bodied</td>\n",
       "      <td>2010</td>\n",
       "      <td>Clare Valley</td>\n",
       "    </tr>\n",
       "    <tr>\n",
       "      <th>1288</th>\n",
       "      <td>75CL</td>\n",
       "      <td>Cabernet Sauvignon</td>\n",
       "      <td>NaN</td>\n",
       "      <td>Natural Cork</td>\n",
       "      <td>Australia</td>\n",
       "      <td>10.9</td>\n",
       "      <td>Black Plum, Blackcurrant, Vanilla</td>\n",
       "      <td>per bottle</td>\n",
       "      <td>Red</td>\n",
       "      <td>ABV 14.50%</td>\n",
       "      <td>South Australia</td>\n",
       "      <td>Savoury &amp; Full Bodied</td>\n",
       "      <td>2016</td>\n",
       "      <td>Coonawarra</td>\n",
       "    </tr>\n",
       "    <tr>\n",
       "      <th>1289</th>\n",
       "      <td>75CL</td>\n",
       "      <td>Viognier</td>\n",
       "      <td>NaN</td>\n",
       "      <td>Screwcap</td>\n",
       "      <td>Australia</td>\n",
       "      <td>10.1</td>\n",
       "      <td>Peach, Apricot, Floral, Honeysuckle</td>\n",
       "      <td>per bottle</td>\n",
       "      <td>White</td>\n",
       "      <td>ABV 13.50%</td>\n",
       "      <td>NaN</td>\n",
       "      <td>Aromatic &amp; Floral</td>\n",
       "      <td>2017</td>\n",
       "      <td>Eden Valley</td>\n",
       "    </tr>\n",
       "  </tbody>\n",
       "</table>\n",
       "<p>1290 rows × 14 columns</p>\n",
       "</div>"
      ],
      "text/plain": [
       "     Capacity               Grape Secondary Grape Varieties       Closure  \\\n",
       "0        75CL         Tempranillo                       NaN  Natural Cork   \n",
       "1        75CL          Chardonnay                       NaN  Natural Cork   \n",
       "2        75CL     Sauvignon Blanc                       NaN      Screwcap   \n",
       "3        75CL          Chardonnay                       NaN  Natural Cork   \n",
       "4        75CL          Pinot Noir                       NaN  Natural Cork   \n",
       "...       ...                 ...                       ...           ...   \n",
       "1285     75CL        Chenin Blanc                       NaN  Natural Cork   \n",
       "1286     75CL          Pinot Noir                       NaN      Screwcap   \n",
       "1287     75CL  Cabernet Sauvignon                       NaN      Screwcap   \n",
       "1288     75CL  Cabernet Sauvignon                       NaN  Natural Cork   \n",
       "1289     75CL            Viognier                       NaN      Screwcap   \n",
       "\n",
       "          Country  Unit                                    Characteristics  \\\n",
       "0           Spain  10.5                  Vanilla, Blackberry, Blackcurrant   \n",
       "1             USA  10.1  Vanilla, Almond, Coconut, Green Apple, Peach, ...   \n",
       "2     New Zealand   9.8  Tropical Fruit, Gooseberry, Grapefruit, Grass,...   \n",
       "3          France  10.1                      Peach, Apricot, Floral, Lemon   \n",
       "4             USA  10.1   Smoke, Black Cherry, Cedar, Raspberry, Red Fruit   \n",
       "...           ...   ...                                                ...   \n",
       "1285       France   9.4                   Quince, Green Apple, Lemon, Pear   \n",
       "1286  New Zealand   9.8          Floral, Raspberry, Red Cherry, Strawberry   \n",
       "1287    Australia  10.1  Vanilla, Blackberry, Blackcurrant, Cedar, Euca...   \n",
       "1288    Australia  10.9                  Black Plum, Blackcurrant, Vanilla   \n",
       "1289    Australia  10.1                Peach, Apricot, Floral, Honeysuckle   \n",
       "\n",
       "     Per bottle / case / each   Type         ABV           Region  \\\n",
       "0                  per bottle    Red  ABV 14.00%              NaN   \n",
       "1                  per bottle  White  ABV 13.50%       California   \n",
       "2                  per bottle  White  ABV 13.00%      Marlborough   \n",
       "3                  per bottle  White  ABV 13.50%         Burgundy   \n",
       "4                  per bottle    Red  ABV 13.50%       California   \n",
       "...                       ...    ...         ...              ...   \n",
       "1285               per bottle  White  ABV 12.50%            Loire   \n",
       "1286               per bottle   Rosé  ABV 13.00%           Nelson   \n",
       "1287               per bottle    Red  ABV 13.50%  South Australia   \n",
       "1288               per bottle    Red  ABV 14.50%  South Australia   \n",
       "1289               per bottle  White  ABV 13.50%              NaN   \n",
       "\n",
       "                      Style Vintage   Appellation  \n",
       "0              Rich & Juicy      NV           NaN  \n",
       "1             Rich & Toasty    2021   Napa Valley  \n",
       "2             Crisp & Zesty    2022           NaN  \n",
       "3            Ripe & Rounded    2022         Macon  \n",
       "4           Smooth & Mellow    2021   Napa Valley  \n",
       "...                     ...     ...           ...  \n",
       "1285      Aromatic & Floral    2021       Vouvray  \n",
       "1286         Delicate & Dry    2021           NaN  \n",
       "1287  Savoury & Full Bodied    2010  Clare Valley  \n",
       "1288  Savoury & Full Bodied    2016    Coonawarra  \n",
       "1289      Aromatic & Floral    2017   Eden Valley  \n",
       "\n",
       "[1290 rows x 14 columns]"
      ]
     },
     "execution_count": 3,
     "metadata": {},
     "output_type": "execute_result"
    }
   ],
   "source": [
    "wine_df"
   ]
  },
  {
   "cell_type": "code",
   "execution_count": 4,
   "metadata": {},
   "outputs": [
    {
     "data": {
      "text/plain": [
       "Capacity                       0\n",
       "Grape                         15\n",
       "Secondary Grape Varieties    802\n",
       "Closure                       11\n",
       "Country                        6\n",
       "Unit                           9\n",
       "Characteristics               37\n",
       "Per bottle / case / each       0\n",
       "Type                           5\n",
       "ABV                            9\n",
       "Region                       166\n",
       "Style                         78\n",
       "Vintage                        7\n",
       "Appellation                  646\n",
       "dtype: int64"
      ]
     },
     "execution_count": 4,
     "metadata": {},
     "output_type": "execute_result"
    }
   ],
   "source": [
    "wine_df.isnull().sum()"
   ]
  },
  {
   "cell_type": "code",
   "execution_count": 5,
   "metadata": {},
   "outputs": [
    {
     "data": {
      "text/plain": [
       "array(['ABV 14.00%', 'ABV 13.50%', 'ABV 13.00%', 'ABV 12.00%',\n",
       "       'ABV 11.00%', 'ABV 40.00%', 'ABV 12.50%', 'ABV 14.40%',\n",
       "       'ABV 14.50%', 'ABV 14.20%', 'ABV 11.50%', 'ABV 15.00%', nan,\n",
       "       'ABV 15.50%', 'ABV 12.90%', 'ABV 10.50%', 'ABV 8.00%', 'ABV 9.50%',\n",
       "       'ABV 13.10%', 'ABV 0.50%', 'ABV 20.00%', 'ABV 20.50%',\n",
       "       'ABV 18.00%', 'ABV 16.00%', 'ABV 10.00%', 'ABV 8.50%',\n",
       "       'ABV 17.50%', 'ABV 17.00%', 'ABV 18.50%', 'ABV 13.80%',\n",
       "       'ABV 5.00%', 'ABV 4.90%', 'ABV 19.00%', 'ABV 14.60%'], dtype=object)"
      ]
     },
     "execution_count": 5,
     "metadata": {},
     "output_type": "execute_result"
    }
   ],
   "source": [
    "wine_df['ABV'].unique()"
   ]
  },
  {
   "cell_type": "code",
   "execution_count": 6,
   "metadata": {},
   "outputs": [],
   "source": [
    "wine_df['ABV'] = wine_df.ABV.astype(str)\n"
   ]
  },
  {
   "cell_type": "code",
   "execution_count": 7,
   "metadata": {},
   "outputs": [],
   "source": [
    "wine_df['Capacity'] = wine_df.Capacity.astype(str)"
   ]
  },
  {
   "cell_type": "code",
   "execution_count": 8,
   "metadata": {},
   "outputs": [],
   "source": [
    "def remove_abv(s):\n",
    "    s = s.replace('%', '')\n",
    "    s = s.replace('ABV','')\n",
    "    s = s.replace('nan','9.5')\n",
    "    return s\n",
    "wine_df['ABV'] = wine_df['ABV'].apply(remove_abv)\n"
   ]
  },
  {
   "cell_type": "code",
   "execution_count": 9,
   "metadata": {},
   "outputs": [],
   "source": [
    "wine_df['ABV'] = wine_df.ABV.astype('Float64')"
   ]
  },
  {
   "cell_type": "code",
   "execution_count": 10,
   "metadata": {},
   "outputs": [
    {
     "data": {
      "text/plain": [
       "array(['75CL', '70CL', '750ML', '1.5LTR', 'Our', '37.5CL', '2.25L',\n",
       "       '500ML', '50CL', '150CL', '300CL', '5LITRE', '375ML'], dtype=object)"
      ]
     },
     "execution_count": 10,
     "metadata": {},
     "output_type": "execute_result"
    }
   ],
   "source": [
    "wine_df['Capacity'].unique()"
   ]
  },
  {
   "cell_type": "code",
   "execution_count": 11,
   "metadata": {},
   "outputs": [
    {
     "data": {
      "text/plain": [
       "array(['75', '70', '750', '1.5', '9.5', '37.5', '2.25', '500', '50',\n",
       "       '150', '300', '5', '375'], dtype=object)"
      ]
     },
     "execution_count": 11,
     "metadata": {},
     "output_type": "execute_result"
    }
   ],
   "source": [
    "\n",
    "def remove_cap(c):\n",
    "    c = c.replace('CL','')\n",
    "    c = c.replace('ML','')\n",
    "    c = c.replace('LTR','')\n",
    "    c = c.replace('L','')\n",
    "    c = c.replace('LITRE','')\n",
    "    c = c.replace('Our','9.5')\n",
    "    c = c.replace('ITRE','')\n",
    "    return c\n",
    "wine_df['Capacity'] = wine_df['Capacity'].apply(remove_cap)\n",
    "wine_df['Capacity'].unique()"
   ]
  },
  {
   "cell_type": "code",
   "execution_count": 13,
   "metadata": {},
   "outputs": [],
   "source": [
    "wine_df['Capacity'] = wine_df.Capacity.astype('Float64')"
   ]
  },
  {
   "cell_type": "code",
   "execution_count": 15,
   "metadata": {},
   "outputs": [
    {
     "name": "stdout",
     "output_type": "stream",
     "text": [
      "<class 'pandas.core.frame.DataFrame'>\n",
      "RangeIndex: 1290 entries, 0 to 1289\n",
      "Data columns (total 14 columns):\n",
      " #   Column                     Non-Null Count  Dtype  \n",
      "---  ------                     --------------  -----  \n",
      " 0   Capacity                   1290 non-null   Float64\n",
      " 1   Grape                      1275 non-null   object \n",
      " 2   Secondary Grape Varieties  488 non-null    object \n",
      " 3   Closure                    1279 non-null   object \n",
      " 4   Country                    1284 non-null   object \n",
      " 5   Unit                       1281 non-null   float64\n",
      " 6   Characteristics            1253 non-null   object \n",
      " 7   Per bottle / case / each   1290 non-null   object \n",
      " 8   Type                       1285 non-null   object \n",
      " 9   ABV                        1290 non-null   Float64\n",
      " 10  Region                     1124 non-null   object \n",
      " 11  Style                      1212 non-null   object \n",
      " 12  Vintage                    1283 non-null   object \n",
      " 13  Appellation                644 non-null    object \n",
      "dtypes: Float64(2), float64(1), object(11)\n",
      "memory usage: 143.7+ KB\n"
     ]
    }
   ],
   "source": [
    "wine_df.info()"
   ]
  },
  {
   "cell_type": "code",
   "execution_count": 14,
   "metadata": {},
   "outputs": [
    {
     "data": {
      "text/plain": [
       "array(['Tempranillo', 'Chardonnay', 'Sauvignon Blanc', 'Pinot Noir',\n",
       "       'Glera', nan, 'Chenin Blanc', 'Castelão ', 'Malagousia',\n",
       "       'Cinsault', 'Grenache', 'Shiraz', 'Cabernet Sauvignon', 'Bacchus',\n",
       "       'Viognier', 'Pinot Grigio', 'Garnacha', 'Malbec', 'Cortese',\n",
       "       'Merlot', 'Melon De Bourgogne', 'Carménère', 'Zinfandel', 'Syrah',\n",
       "       'Marsanne', 'Gruner Veltliner', 'Corvina', 'Greco', 'Macabeo',\n",
       "       'Gamay', 'Loureiro', 'Riesling', 'Alvarinho', 'Mourvèdre',\n",
       "       'Cabernet Franc', 'Vespaiola', 'Picpoul', 'Vermentino',\n",
       "       'Sangiovese', 'Pinot Meunier', 'Verdejo', 'Primitivo', 'Pinotage',\n",
       "       'Alicante Bouschet', 'Garganega', 'Godello', 'Carignan',\n",
       "       'Grenache Blanc', 'Aligoté', 'Siegerrebe', 'Touriga Nacional',\n",
       "       'Albarino', 'Nerello Mascalese', \"Nero D'Avola\", 'Turbiana',\n",
       "       'Pinot Gris', 'Airen', 'Trincadeira', 'Tinta Roriz', 'Xinomavro',\n",
       "       'Agiorgitiko', 'Pais', 'Gewürztraminer', 'Mencia', 'Verdicchio',\n",
       "       'Fiano', 'Rondinella', 'Mauzac', 'Nebbiolo',\n",
       "       'Lambrusco Grasparossa', 'Pecorino', 'Negroamaro', 'Fernão Pires',\n",
       "       'Feteasca Alba', 'Zwieigelt', 'Grillo', 'Tinta Barroca', 'Furmint',\n",
       "       'Touriga Franca', 'Pedro Ximénez', 'Palomino', 'Viura',\n",
       "       'Montepulciano', 'Barbera', 'Malvasia', 'Arinto', 'Colombard',\n",
       "       'Sémillon', 'Jacquere', 'Pinot Blanc', 'Rkatsiteli',\n",
       "       'Syrah-Shiraz', 'Torrontes', 'Sauvignon Gris', 'Assyrtiko',\n",
       "       'Moscato', 'Rolle', 'Huxelrebe', 'Xarel-Lo', 'Niellucciu',\n",
       "       'Saperavi', 'Rara Neagra', 'Non Varietal', 'Muscat', 'Monastrell',\n",
       "       'Dolcetto', 'Black Muscat', 'Nerello', 'Roussanne', 'Tibouren',\n",
       "       'Grolleau', 'Inzolia', 'Falanghina', 'Aglianico'], dtype=object)"
      ]
     },
     "execution_count": 14,
     "metadata": {},
     "output_type": "execute_result"
    }
   ],
   "source": [
    "wine_df['Grape'].unique()"
   ]
  },
  {
   "cell_type": "code",
   "execution_count": null,
   "metadata": {},
   "outputs": [],
   "source": []
  }
 ],
 "metadata": {
  "kernelspec": {
   "display_name": "dev",
   "language": "python",
   "name": "python3"
  },
  "language_info": {
   "codemirror_mode": {
    "name": "ipython",
    "version": 3
   },
   "file_extension": ".py",
   "mimetype": "text/x-python",
   "name": "python",
   "nbconvert_exporter": "python",
   "pygments_lexer": "ipython3",
   "version": "3.10.13"
  }
 },
 "nbformat": 4,
 "nbformat_minor": 2
}
